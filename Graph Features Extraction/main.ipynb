{
 "cells": [
  {
   "cell_type": "code",
   "execution_count": 1,
   "id": "08dac674",
   "metadata": {},
   "outputs": [],
   "source": [
    "import pandas as pd\n",
    "import igraph as ig\n",
    "import random\n",
    "import itertools\n",
    "import operator\n",
    "import pickle\n"
   ]
  },
  {
   "cell_type": "code",
   "execution_count": 2,
   "id": "9a872392",
   "metadata": {},
   "outputs": [],
   "source": [
    "##user_id,item_id,timestamp,state_label,comma_separated_list_of_features\n",
    "#auth = pd.read_csv(\"./auth_ntlm.txt\", header=None, names=['src', 'dst', 'ti', 'lbl', 'src_t', 'dst_t', 'auth_t', 'log_t', 'auth_o', 's_f'])\n",
    "auth = pd.read_csv(\"../auth_ntlm.txt\", header=None, names=['time', 'src_t', 'user', 'src', 'dst', 'auth_t', 'log_t', 'auth_o', 's_f'])"
   ]
  },
  {
   "cell_type": "code",
   "execution_count": 3,
   "id": "1e5b729c",
   "metadata": {},
   "outputs": [],
   "source": [
    "#auth = auth.reset_index()"
   ]
  },
  {
   "cell_type": "code",
   "execution_count": 4,
   "id": "ca608d6a",
   "metadata": {},
   "outputs": [],
   "source": [
    "authlog = auth[['time', 'user', 'src', 'dst']]"
   ]
  },
  {
   "cell_type": "code",
   "execution_count": 5,
   "id": "f1a0647f",
   "metadata": {},
   "outputs": [
    {
     "data": {
      "text/html": [
       "<div>\n",
       "<style scoped>\n",
       "    .dataframe tbody tr th:only-of-type {\n",
       "        vertical-align: middle;\n",
       "    }\n",
       "\n",
       "    .dataframe tbody tr th {\n",
       "        vertical-align: top;\n",
       "    }\n",
       "\n",
       "    .dataframe thead th {\n",
       "        text-align: right;\n",
       "    }\n",
       "</style>\n",
       "<table border=\"1\" class=\"dataframe\">\n",
       "  <thead>\n",
       "    <tr style=\"text-align: right;\">\n",
       "      <th></th>\n",
       "      <th>time</th>\n",
       "      <th>user</th>\n",
       "      <th>src</th>\n",
       "      <th>dst</th>\n",
       "    </tr>\n",
       "  </thead>\n",
       "  <tbody>\n",
       "    <tr>\n",
       "      <th>0</th>\n",
       "      <td>1</td>\n",
       "      <td>ANONYMOUS LOGON@C586</td>\n",
       "      <td>C1250</td>\n",
       "      <td>C586</td>\n",
       "    </tr>\n",
       "    <tr>\n",
       "      <th>1</th>\n",
       "      <td>1</td>\n",
       "      <td>U898@DOM1</td>\n",
       "      <td>C2944</td>\n",
       "      <td>C2944</td>\n",
       "    </tr>\n",
       "    <tr>\n",
       "      <th>2</th>\n",
       "      <td>2</td>\n",
       "      <td>ANONYMOUS LOGON@C457</td>\n",
       "      <td>C4615</td>\n",
       "      <td>C457</td>\n",
       "    </tr>\n",
       "    <tr>\n",
       "      <th>3</th>\n",
       "      <td>2</td>\n",
       "      <td>ANONYMOUS LOGON@C586</td>\n",
       "      <td>C2734</td>\n",
       "      <td>C586</td>\n",
       "    </tr>\n",
       "    <tr>\n",
       "      <th>4</th>\n",
       "      <td>2</td>\n",
       "      <td>ANONYMOUS LOGON@C586</td>\n",
       "      <td>C3896</td>\n",
       "      <td>C586</td>\n",
       "    </tr>\n",
       "    <tr>\n",
       "      <th>...</th>\n",
       "      <td>...</td>\n",
       "      <td>...</td>\n",
       "      <td>...</td>\n",
       "      <td>...</td>\n",
       "    </tr>\n",
       "    <tr>\n",
       "      <th>49341295</th>\n",
       "      <td>5011199</td>\n",
       "      <td>C659$@DOM1</td>\n",
       "      <td>C659</td>\n",
       "      <td>C1065</td>\n",
       "    </tr>\n",
       "    <tr>\n",
       "      <th>49341296</th>\n",
       "      <td>5011199</td>\n",
       "      <td>C9458$@DOM1</td>\n",
       "      <td>C9458</td>\n",
       "      <td>C1015</td>\n",
       "    </tr>\n",
       "    <tr>\n",
       "      <th>49341297</th>\n",
       "      <td>5011199</td>\n",
       "      <td>U129@DOM1</td>\n",
       "      <td>C419</td>\n",
       "      <td>C419</td>\n",
       "    </tr>\n",
       "    <tr>\n",
       "      <th>49341298</th>\n",
       "      <td>5011199</td>\n",
       "      <td>U3887@DOM1</td>\n",
       "      <td>C9458</td>\n",
       "      <td>C1015</td>\n",
       "    </tr>\n",
       "    <tr>\n",
       "      <th>49341299</th>\n",
       "      <td>5011199</td>\n",
       "      <td>U7539@DOM1</td>\n",
       "      <td>C16428</td>\n",
       "      <td>C1015</td>\n",
       "    </tr>\n",
       "  </tbody>\n",
       "</table>\n",
       "<p>49341300 rows × 4 columns</p>\n",
       "</div>"
      ],
      "text/plain": [
       "             time                  user     src    dst\n",
       "0               1  ANONYMOUS LOGON@C586   C1250   C586\n",
       "1               1             U898@DOM1   C2944  C2944\n",
       "2               2  ANONYMOUS LOGON@C457   C4615   C457\n",
       "3               2  ANONYMOUS LOGON@C586   C2734   C586\n",
       "4               2  ANONYMOUS LOGON@C586   C3896   C586\n",
       "...           ...                   ...     ...    ...\n",
       "49341295  5011199            C659$@DOM1    C659  C1065\n",
       "49341296  5011199           C9458$@DOM1   C9458  C1015\n",
       "49341297  5011199             U129@DOM1    C419   C419\n",
       "49341298  5011199            U3887@DOM1   C9458  C1015\n",
       "49341299  5011199            U7539@DOM1  C16428  C1015\n",
       "\n",
       "[49341300 rows x 4 columns]"
      ]
     },
     "execution_count": 5,
     "metadata": {},
     "output_type": "execute_result"
    }
   ],
   "source": [
    "authlog"
   ]
  },
  {
   "cell_type": "markdown",
   "id": "82e20000",
   "metadata": {},
   "source": [
    "## 1- Build In Host User Map"
   ]
  },
  {
   "cell_type": "code",
   "execution_count": 6,
   "id": "ad038bca",
   "metadata": {},
   "outputs": [],
   "source": [
    "def BuildInHostUserMap(authlog):\n",
    "    InHostUserMap = {}\n",
    "    for index, event in authlog.iterrows():\n",
    "        if event['dst'] not in InHostUserMap:\n",
    "            InHostUserMap[event['dst']] = {}\n",
    "        if event['user'] not in InHostUserMap[event['dst']]:\n",
    "            InHostUserMap[event['dst']][event['user']] = {} \n",
    "        day = event['time']/86400\n",
    "        if day not in InHostUserMap[event['dst']][event['user']]:\n",
    "             InHostUserMap[event['dst']][event['user']][day] = 0 \n",
    "        InHostUserMap[event['dst']][event['user']][day] += 1\n",
    "        \n",
    "    return InHostUserMap"
   ]
  },
  {
   "cell_type": "code",
   "execution_count": 7,
   "id": "6731e8f7",
   "metadata": {},
   "outputs": [],
   "source": [
    "InHostUserMap = BuildInHostUserMap(authlog)\n",
    "pickle.dump(InHostUserMap, open(\"InHostUserMap.pkl\", \"wb\")) "
   ]
  },
  {
   "cell_type": "markdown",
   "id": "4b30733d",
   "metadata": {},
   "source": [
    "## 2- Build In Host Src Map"
   ]
  },
  {
   "cell_type": "code",
   "execution_count": 8,
   "id": "f9827931",
   "metadata": {},
   "outputs": [],
   "source": [
    "def BuildInHostSrcMap(authlog):\n",
    "    InHostSrcMap = {}\n",
    "    for index, event in authlog.iterrows():\n",
    "        if event['dst'] not in InHostSrcMap:\n",
    "            InHostSrcMap[event['dst']] = {}\n",
    "        if event['src'] not in InHostSrcMap[event['dst']]:\n",
    "            InHostSrcMap[event['dst']][event['src']] = {} \n",
    "        day = event['time']/86400\n",
    "        if day not in InHostSrcMap[event['dst']][event['src']]:\n",
    "             InHostSrcMap[event['dst']][event['src']][day] = 0\n",
    "        InHostSrcMap[event['dst']][event['src']][day] += 1\n",
    "        \n",
    "    return InHostSrcMap"
   ]
  },
  {
   "cell_type": "code",
   "execution_count": 9,
   "id": "04f57112",
   "metadata": {},
   "outputs": [],
   "source": [
    "InHostSrcMap = BuildInHostSrcMap(authlog)\n",
    "pickle.dump(InHostSrcMap, open(\"InHostSrcMap.pkl\", \"wb\")) "
   ]
  },
  {
   "cell_type": "markdown",
   "id": "3a0860b0",
   "metadata": {},
   "source": [
    "## 3- Build In Host Usr Src Map"
   ]
  },
  {
   "cell_type": "code",
   "execution_count": 10,
   "id": "bd2c4495",
   "metadata": {},
   "outputs": [],
   "source": [
    "def BuildInHostUsrSrcMap(authlog):\n",
    "    InHostUsrSrcMap = {}\n",
    "    for index, event in authlog.iterrows():\n",
    "        if event['dst'] not in InHostUsrSrcMap:\n",
    "            InHostUsrSrcMap[event['dst']] = {}\n",
    "        if event['user']+event['src'] not in InHostUsrSrcMap[event['dst']]:\n",
    "            InHostUsrSrcMap[event['dst']][event['user']+event['src']] = {} \n",
    "        day = event['time']/86400\n",
    "        if day not in InHostUsrSrcMap[event['dst']][event['user']+event['src']]:\n",
    "             InHostUsrSrcMap[event['dst']][event['user']+event['src']][day] = 0\n",
    "        InHostUsrSrcMap[event['dst']][event['user']+event['src']][day] += 1\n",
    "        \n",
    "    return InHostUsrSrcMap"
   ]
  },
  {
   "cell_type": "code",
   "execution_count": 11,
   "id": "e5ef37b4",
   "metadata": {},
   "outputs": [],
   "source": [
    "InHostUsrSrcMap = BuildInHostUsrSrcMap(authlog)\n",
    "pickle.dump(InHostUsrSrcMap, open(\"InHostUsrSrcMap.pkl\", \"wb\")) "
   ]
  },
  {
   "cell_type": "markdown",
   "id": "c5db84cf",
   "metadata": {},
   "source": [
    "## 4- Build Out Host Usr Map"
   ]
  },
  {
   "cell_type": "code",
   "execution_count": 12,
   "id": "c88793da",
   "metadata": {},
   "outputs": [],
   "source": [
    "def BuildOutHostUsrMap(authlog):\n",
    "    OutHostUserMap = {}\n",
    "    for index, event in authlog.iterrows():\n",
    "        if event['src'] not in OutHostUserMap:\n",
    "            OutHostUserMap[event['src']] = {}\n",
    "        if event['user'] not in OutHostUserMap[event['src']]:\n",
    "            OutHostUserMap[event['src']][event['user']] = {} \n",
    "        day = event['time']/86400\n",
    "        if day not in OutHostUserMap[event['src']][event['user']]:\n",
    "             OutHostUserMap[event['src']][event['user']][day] = 0\n",
    "        OutHostUserMap[event['src']][event['user']][day] += 1\n",
    "        \n",
    "    return OutHostUserMap"
   ]
  },
  {
   "cell_type": "code",
   "execution_count": null,
   "id": "df6bab83",
   "metadata": {},
   "outputs": [],
   "source": [
    "OutHostUserMap = BuildOutHostUsrMap(authlog)\n",
    "pickle.dump(OutHostUserMap, open(\"OutHostUserMap.pkl\", \"wb\")) "
   ]
  },
  {
   "cell_type": "markdown",
   "id": "87c63b05",
   "metadata": {},
   "source": [
    "## 5- Build Out Host Dst Map"
   ]
  },
  {
   "cell_type": "code",
   "execution_count": null,
   "id": "7cb4113d",
   "metadata": {},
   "outputs": [],
   "source": [
    "def BuildOutHostDstMap(authlog):\n",
    "    OutHostDstMap = {}\n",
    "    for index, event in authlog.iterrows():\n",
    "        if event['src'] not in OutHostDstMap:\n",
    "            OutHostDstMap[event['src']] = {}\n",
    "        if event['dst'] not in OutHostDstMap[event['src']]:\n",
    "            OutHostDstMap[event['src']][event['dst']] = {} \n",
    "        day = event['time']/86400\n",
    "        if day not in OutHostDstMap[event['src']][event['dst']]:\n",
    "             OutHostDstMap[event['src']][event['dst']][day] = 0\n",
    "        OutHostDstMap[event['src']][event['dst']][day] += 1\n",
    "        \n",
    "    return OutHostDstMap"
   ]
  },
  {
   "cell_type": "code",
   "execution_count": null,
   "id": "f32b07bd",
   "metadata": {},
   "outputs": [],
   "source": [
    "OutHostDstMap = BuildOutHostDstMap(authlog)\n",
    "pickle.dump(OutHostDstMap, open(\"OutHostDstMap.pkl\", \"wb\")) "
   ]
  },
  {
   "cell_type": "markdown",
   "id": "7e4b46c6",
   "metadata": {},
   "source": [
    "## 6- Build Out Host Usr Dst Map"
   ]
  },
  {
   "cell_type": "code",
   "execution_count": null,
   "id": "405e507a",
   "metadata": {},
   "outputs": [],
   "source": [
    "def BuildOutHostUsrDstMap(authlog):\n",
    "    OutHostUsrDstMap = {}\n",
    "    for index, event in authlog.iterrows():\n",
    "        if event['src'] not in OutHostUsrDstMap:\n",
    "            OutHostUsrDstMap[event['src']] = {}\n",
    "        if event['user']+event['dst'] not in OutHostUsrDstMap[event['src']]:\n",
    "            OutHostUsrDstMap[event['src']][event['user']+event['dst']] = {} \n",
    "        day = event['time']/86400\n",
    "        if day not in OutHostUsrDstMap[event['src']][event['user']+event['dst']]:\n",
    "             OutHostUsrDstMap[event['src']][event['user']+event['dst']][day] = 0\n",
    "        OutHostUsrDstMap[event['src']][event['user']+event['dst']][day] += 1\n",
    "        \n",
    "    return OutHostUsrDstMap"
   ]
  },
  {
   "cell_type": "code",
   "execution_count": null,
   "id": "35ae1a8b",
   "metadata": {},
   "outputs": [],
   "source": [
    "OutHostUsrDstMap = BuildOutHostUsrDstMap(authlog)\n",
    "pickle.dump(OutHostUsrDstMap, open(\"OutHostUsrDstMap.pkl\", \"wb\")) "
   ]
  },
  {
   "cell_type": "code",
   "execution_count": null,
   "id": "fe62225a",
   "metadata": {},
   "outputs": [],
   "source": []
  },
  {
   "cell_type": "code",
   "execution_count": null,
   "id": "9629fe8a",
   "metadata": {},
   "outputs": [],
   "source": []
  }
 ],
 "metadata": {
  "kernelspec": {
   "display_name": "Python 3 (ipykernel)",
   "language": "python",
   "name": "python3"
  },
  "language_info": {
   "codemirror_mode": {
    "name": "ipython",
    "version": 3
   },
   "file_extension": ".py",
   "mimetype": "text/x-python",
   "name": "python",
   "nbconvert_exporter": "python",
   "pygments_lexer": "ipython3",
   "version": "3.8.13"
  }
 },
 "nbformat": 4,
 "nbformat_minor": 5
}

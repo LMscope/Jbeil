{
 "cells": [
  {
   "cell_type": "code",
   "execution_count": 1,
   "id": "9c123b4f",
   "metadata": {},
   "outputs": [],
   "source": [
    "import pandas as pd\n",
    "import igraph as ig\n",
    "import random\n",
    "import itertools\n",
    "import operator\n",
    "import pickle\n",
    "import time"
   ]
  },
  {
   "cell_type": "code",
   "execution_count": null,
   "id": "c267acab",
   "metadata": {},
   "outputs": [],
   "source": []
  },
  {
   "cell_type": "code",
   "execution_count": 2,
   "id": "591ba9f3",
   "metadata": {},
   "outputs": [],
   "source": [
    "InHostUserMap = {}\n",
    "with open('InHostUserMap.pkl', 'rb') as pickle_file:\n",
    "    InHostUserMap = pickle.load(pickle_file)"
   ]
  },
  {
   "cell_type": "code",
   "execution_count": 3,
   "id": "e6d46376",
   "metadata": {},
   "outputs": [],
   "source": [
    "InHostSrcMap = {}\n",
    "with open('InHostSrcMap.pkl', 'rb') as pickle_file:\n",
    "    InHostSrcMap = pickle.load(pickle_file)"
   ]
  },
  {
   "cell_type": "code",
   "execution_count": 4,
   "id": "ee1a9b32",
   "metadata": {},
   "outputs": [],
   "source": [
    "InHostUsrSrcMap = {}\n",
    "with open('InHostUsrSrcMap.pkl', 'rb') as pickle_file:\n",
    "    InHostUsrSrcMap = pickle.load(pickle_file)"
   ]
  },
  {
   "cell_type": "code",
   "execution_count": 5,
   "id": "06a5516d",
   "metadata": {},
   "outputs": [],
   "source": [
    "OutHostDstMap = {}\n",
    "with open('OutHostDstMap.pkl', 'rb') as pickle_file:\n",
    "    OutHostDstMap = pickle.load(pickle_file)"
   ]
  },
  {
   "cell_type": "code",
   "execution_count": 6,
   "id": "37871572",
   "metadata": {},
   "outputs": [],
   "source": [
    "OutHostUserMap = {}\n",
    "with open('OutHostUserMap.pkl', 'rb') as pickle_file:\n",
    "    OutHostUserMap = pickle.load(pickle_file)"
   ]
  },
  {
   "cell_type": "code",
   "execution_count": 7,
   "id": "6225417e",
   "metadata": {},
   "outputs": [],
   "source": [
    "OutHostUsrDstMap = {}\n",
    "with open('OutHostUsrDstMap.pkl', 'rb') as pickle_file:\n",
    "    OutHostUsrDstMap = pickle.load(pickle_file)"
   ]
  },
  {
   "cell_type": "code",
   "execution_count": null,
   "id": "6b45b606",
   "metadata": {},
   "outputs": [],
   "source": []
  },
  {
   "cell_type": "code",
   "execution_count": 8,
   "id": "b6b531da",
   "metadata": {},
   "outputs": [],
   "source": [
    "## user_id, item_id, timestamp, state_label, comma_seperated_list_of_features\n",
    "auth = pd.read_csv(\"../auth_ntlm.txt\", header=None, names=['time', 'src_t', 'user', 'src', 'dst', 'auth_t', 'log_t', 'auth_o', 's_f'])"
   ]
  },
  {
   "cell_type": "code",
   "execution_count": 9,
   "id": "f80f9b6d",
   "metadata": {},
   "outputs": [],
   "source": [
    "authlog = auth[['src', 'dst', 'time', 'user']]"
   ]
  },
  {
   "cell_type": "code",
   "execution_count": 10,
   "id": "799eb75d",
   "metadata": {},
   "outputs": [
    {
     "name": "stderr",
     "output_type": "stream",
     "text": [
      "/tmp/ipykernel_3944/2212575971.py:5: SettingWithCopyWarning: \n",
      "A value is trying to be set on a copy of a slice from a DataFrame.\n",
      "Try using .loc[row_indexer,col_indexer] = value instead\n",
      "\n",
      "See the caveats in the documentation: https://pandas.pydata.org/pandas-docs/stable/user_guide/indexing.html#returning-a-view-versus-a-copy\n",
      "  authlog['OD_usr'] = 0.0\n",
      "/tmp/ipykernel_3944/2212575971.py:6: SettingWithCopyWarning: \n",
      "A value is trying to be set on a copy of a slice from a DataFrame.\n",
      "Try using .loc[row_indexer,col_indexer] = value instead\n",
      "\n",
      "See the caveats in the documentation: https://pandas.pydata.org/pandas-docs/stable/user_guide/indexing.html#returning-a-view-versus-a-copy\n",
      "  authlog['OD_dst'] = 0.0\n",
      "/tmp/ipykernel_3944/2212575971.py:7: SettingWithCopyWarning: \n",
      "A value is trying to be set on a copy of a slice from a DataFrame.\n",
      "Try using .loc[row_indexer,col_indexer] = value instead\n",
      "\n",
      "See the caveats in the documentation: https://pandas.pydata.org/pandas-docs/stable/user_guide/indexing.html#returning-a-view-versus-a-copy\n",
      "  authlog['OD_usr_dst'] = 0.0\n"
     ]
    }
   ],
   "source": [
    "#authlog['ID_usr'] = 0.0\n",
    "#authlog['ID_src'] = 0.0\n",
    "#authlog['ID_usr_src'] = 0.0\n",
    "\n",
    "authlog['OD_usr'] = 0.0\n",
    "authlog['OD_dst'] = 0.0\n",
    "authlog['OD_usr_dst'] = 0.0\n",
    "\n",
    "#authlog['IDAF_usr'] = 0.0\n",
    "#authlog['IDAF_src'] = 0.0\n",
    "#authlog['IDAF_usr_src'] = 0.0\n",
    "\n",
    "#authlog['ODAF_usr'] = 0.0\n",
    "#authlog['ODAF_dst'] = 0.0\n",
    "#authlog['ODAF_usr_dst'] = 0.0\n",
    "\n",
    "#authlog['IDAFSTD_usr'] = 0.0\n",
    "#authlog['IDAFSTD_src'] = 0.0\n",
    "#authlog['IDAFSTD_usr_src'] = 0.0\n",
    "\n",
    "#authlog['ODAFSTD_usr'] = 0.0\n",
    "#authlog['ODAFSTD_dst'] = 0.0\n",
    "#authlog['ODAFSTD_usr_dst'] = 0.0"
   ]
  },
  {
   "cell_type": "code",
   "execution_count": 11,
   "id": "a0ed6c07",
   "metadata": {},
   "outputs": [
    {
     "data": {
      "text/html": [
       "<div>\n",
       "<style scoped>\n",
       "    .dataframe tbody tr th:only-of-type {\n",
       "        vertical-align: middle;\n",
       "    }\n",
       "\n",
       "    .dataframe tbody tr th {\n",
       "        vertical-align: top;\n",
       "    }\n",
       "\n",
       "    .dataframe thead th {\n",
       "        text-align: right;\n",
       "    }\n",
       "</style>\n",
       "<table border=\"1\" class=\"dataframe\">\n",
       "  <thead>\n",
       "    <tr style=\"text-align: right;\">\n",
       "      <th></th>\n",
       "      <th>src</th>\n",
       "      <th>dst</th>\n",
       "      <th>time</th>\n",
       "      <th>user</th>\n",
       "      <th>OD_usr</th>\n",
       "      <th>OD_dst</th>\n",
       "      <th>OD_usr_dst</th>\n",
       "    </tr>\n",
       "  </thead>\n",
       "  <tbody>\n",
       "    <tr>\n",
       "      <th>0</th>\n",
       "      <td>C1250</td>\n",
       "      <td>C586</td>\n",
       "      <td>1</td>\n",
       "      <td>ANONYMOUS LOGON@C586</td>\n",
       "      <td>0.0</td>\n",
       "      <td>0.0</td>\n",
       "      <td>0.0</td>\n",
       "    </tr>\n",
       "    <tr>\n",
       "      <th>1</th>\n",
       "      <td>C2944</td>\n",
       "      <td>C2944</td>\n",
       "      <td>1</td>\n",
       "      <td>U898@DOM1</td>\n",
       "      <td>0.0</td>\n",
       "      <td>0.0</td>\n",
       "      <td>0.0</td>\n",
       "    </tr>\n",
       "    <tr>\n",
       "      <th>2</th>\n",
       "      <td>C4615</td>\n",
       "      <td>C457</td>\n",
       "      <td>2</td>\n",
       "      <td>ANONYMOUS LOGON@C457</td>\n",
       "      <td>0.0</td>\n",
       "      <td>0.0</td>\n",
       "      <td>0.0</td>\n",
       "    </tr>\n",
       "    <tr>\n",
       "      <th>3</th>\n",
       "      <td>C2734</td>\n",
       "      <td>C586</td>\n",
       "      <td>2</td>\n",
       "      <td>ANONYMOUS LOGON@C586</td>\n",
       "      <td>0.0</td>\n",
       "      <td>0.0</td>\n",
       "      <td>0.0</td>\n",
       "    </tr>\n",
       "    <tr>\n",
       "      <th>4</th>\n",
       "      <td>C3896</td>\n",
       "      <td>C586</td>\n",
       "      <td>2</td>\n",
       "      <td>ANONYMOUS LOGON@C586</td>\n",
       "      <td>0.0</td>\n",
       "      <td>0.0</td>\n",
       "      <td>0.0</td>\n",
       "    </tr>\n",
       "    <tr>\n",
       "      <th>...</th>\n",
       "      <td>...</td>\n",
       "      <td>...</td>\n",
       "      <td>...</td>\n",
       "      <td>...</td>\n",
       "      <td>...</td>\n",
       "      <td>...</td>\n",
       "      <td>...</td>\n",
       "    </tr>\n",
       "    <tr>\n",
       "      <th>49341295</th>\n",
       "      <td>C659</td>\n",
       "      <td>C1065</td>\n",
       "      <td>5011199</td>\n",
       "      <td>C659$@DOM1</td>\n",
       "      <td>0.0</td>\n",
       "      <td>0.0</td>\n",
       "      <td>0.0</td>\n",
       "    </tr>\n",
       "    <tr>\n",
       "      <th>49341296</th>\n",
       "      <td>C9458</td>\n",
       "      <td>C1015</td>\n",
       "      <td>5011199</td>\n",
       "      <td>C9458$@DOM1</td>\n",
       "      <td>0.0</td>\n",
       "      <td>0.0</td>\n",
       "      <td>0.0</td>\n",
       "    </tr>\n",
       "    <tr>\n",
       "      <th>49341297</th>\n",
       "      <td>C419</td>\n",
       "      <td>C419</td>\n",
       "      <td>5011199</td>\n",
       "      <td>U129@DOM1</td>\n",
       "      <td>0.0</td>\n",
       "      <td>0.0</td>\n",
       "      <td>0.0</td>\n",
       "    </tr>\n",
       "    <tr>\n",
       "      <th>49341298</th>\n",
       "      <td>C9458</td>\n",
       "      <td>C1015</td>\n",
       "      <td>5011199</td>\n",
       "      <td>U3887@DOM1</td>\n",
       "      <td>0.0</td>\n",
       "      <td>0.0</td>\n",
       "      <td>0.0</td>\n",
       "    </tr>\n",
       "    <tr>\n",
       "      <th>49341299</th>\n",
       "      <td>C16428</td>\n",
       "      <td>C1015</td>\n",
       "      <td>5011199</td>\n",
       "      <td>U7539@DOM1</td>\n",
       "      <td>0.0</td>\n",
       "      <td>0.0</td>\n",
       "      <td>0.0</td>\n",
       "    </tr>\n",
       "  </tbody>\n",
       "</table>\n",
       "<p>49341300 rows × 7 columns</p>\n",
       "</div>"
      ],
      "text/plain": [
       "             src    dst     time                  user  OD_usr  OD_dst  \\\n",
       "0          C1250   C586        1  ANONYMOUS LOGON@C586     0.0     0.0   \n",
       "1          C2944  C2944        1             U898@DOM1     0.0     0.0   \n",
       "2          C4615   C457        2  ANONYMOUS LOGON@C457     0.0     0.0   \n",
       "3          C2734   C586        2  ANONYMOUS LOGON@C586     0.0     0.0   \n",
       "4          C3896   C586        2  ANONYMOUS LOGON@C586     0.0     0.0   \n",
       "...          ...    ...      ...                   ...     ...     ...   \n",
       "49341295    C659  C1065  5011199            C659$@DOM1     0.0     0.0   \n",
       "49341296   C9458  C1015  5011199           C9458$@DOM1     0.0     0.0   \n",
       "49341297    C419   C419  5011199             U129@DOM1     0.0     0.0   \n",
       "49341298   C9458  C1015  5011199            U3887@DOM1     0.0     0.0   \n",
       "49341299  C16428  C1015  5011199            U7539@DOM1     0.0     0.0   \n",
       "\n",
       "          OD_usr_dst  \n",
       "0                0.0  \n",
       "1                0.0  \n",
       "2                0.0  \n",
       "3                0.0  \n",
       "4                0.0  \n",
       "...              ...  \n",
       "49341295         0.0  \n",
       "49341296         0.0  \n",
       "49341297         0.0  \n",
       "49341298         0.0  \n",
       "49341299         0.0  \n",
       "\n",
       "[49341300 rows x 7 columns]"
      ]
     },
     "execution_count": 11,
     "metadata": {},
     "output_type": "execute_result"
    }
   ],
   "source": [
    "authlog"
   ]
  },
  {
   "cell_type": "markdown",
   "id": "8e0f067b",
   "metadata": {},
   "source": [
    "--"
   ]
  },
  {
   "cell_type": "code",
   "execution_count": 12,
   "id": "6c436303",
   "metadata": {},
   "outputs": [],
   "source": [
    "def Average(lst):\n",
    "    return sum(lst) / len(lst)"
   ]
  },
  {
   "cell_type": "code",
   "execution_count": 13,
   "id": "2ccf6529",
   "metadata": {},
   "outputs": [],
   "source": [
    "def Stddev(lst):\n",
    "    mean = Average(lst)\n",
    "    variance = sum([((x - mean) ** 2) for x in lst]) / len(lst)\n",
    "    stddev = variance ** 0.5\n",
    "    return stddev"
   ]
  },
  {
   "cell_type": "markdown",
   "id": "23106df8",
   "metadata": {},
   "source": [
    "--"
   ]
  },
  {
   "cell_type": "code",
   "execution_count": 14,
   "id": "f7d66149",
   "metadata": {},
   "outputs": [],
   "source": [
    "## Algorithm 7\n",
    "def Calculate_IDusr(dst):\n",
    "    InHostUserMap_list = list(InHostUserMap.keys())\n",
    "    if dst in InHostUserMap_list:\n",
    "        return len(list(InHostUserMap[dst].values()))\n",
    "    else:\n",
    "        return 0"
   ]
  },
  {
   "cell_type": "code",
   "execution_count": 15,
   "id": "5f02d8c5",
   "metadata": {},
   "outputs": [],
   "source": [
    "## Algorithm 8\n",
    "def Calculate_IDsrc(dst):\n",
    "    InHostSrcMap_list = list(InHostSrcMap.keys())\n",
    "    if dst in InHostSrcMap_list:\n",
    "        return len(list(InHostSrcMap[dst].values()))\n",
    "    else:\n",
    "        return 0"
   ]
  },
  {
   "cell_type": "code",
   "execution_count": 16,
   "id": "f9bd3f01",
   "metadata": {},
   "outputs": [],
   "source": [
    "## Algorithm 9\n",
    "def Calculate_IDusr_src(dst):\n",
    "    InHostUsrSrcMap_list = list(InHostUsrSrcMap.keys())\n",
    "    if dst in InHostUsrSrcMap_list:\n",
    "        return len(list(InHostUsrSrcMap[dst].values()))\n",
    "    else:\n",
    "        return 0"
   ]
  },
  {
   "cell_type": "markdown",
   "id": "4c61944f",
   "metadata": {},
   "source": [
    "--"
   ]
  },
  {
   "cell_type": "code",
   "execution_count": 17,
   "id": "0ecbfe9e",
   "metadata": {},
   "outputs": [],
   "source": [
    "## Algorithm 10\n",
    "def Calculate_ODusr(src):\n",
    "    if src in list(OutHostUserMap.keys()):\n",
    "        return len(list(OutHostUserMap[src].values()))\n",
    "    else:\n",
    "        return 0"
   ]
  },
  {
   "cell_type": "code",
   "execution_count": 18,
   "id": "ab9648b5",
   "metadata": {},
   "outputs": [],
   "source": [
    "## Algorithm 11\n",
    "def Calculate_ODdst(src):\n",
    "    if src in list(OutHostDstMap.keys()):\n",
    "        return len(list(OutHostDstMap[src].values()))\n",
    "    else:\n",
    "        return 0"
   ]
  },
  {
   "cell_type": "code",
   "execution_count": 19,
   "id": "fb5f9546",
   "metadata": {},
   "outputs": [],
   "source": [
    "## Algorithm 12\n",
    "def Calculate_ODusr_dst(src):\n",
    "    if src in list(OutHostUsrDstMap.keys()):\n",
    "        return len(list(OutHostUsrDstMap[src].values()))\n",
    "    else:\n",
    "        return 0"
   ]
  },
  {
   "cell_type": "markdown",
   "id": "f4ad3fa7",
   "metadata": {},
   "source": [
    "--"
   ]
  },
  {
   "cell_type": "code",
   "execution_count": 20,
   "id": "f6ea2211",
   "metadata": {},
   "outputs": [],
   "source": [
    "## Algorithm 13\n",
    "def Calculate_IDAFusr(dst):\n",
    "    UserFrequency = []\n",
    "    if dst in list(InHostUserMap.keys()):\n",
    "        for user in list(InHostUserMap[dst].keys()):\n",
    "            UserFreq = Average(InHostUserMap[dst][user].values())\n",
    "            UserFrequency.append(UserFreq)\n",
    "        return Average(UserFrequency)\n",
    "    else:\n",
    "        return 0"
   ]
  },
  {
   "cell_type": "code",
   "execution_count": 21,
   "id": "9375df82",
   "metadata": {},
   "outputs": [],
   "source": [
    "## Algorithm 14\n",
    "def Calculate_IDAFsrc(dst):\n",
    "    SrcFrequency = []\n",
    "    if dst in list(InHostSrcMap.keys()):\n",
    "        for src in list(InHostSrcMap[dst].keys()):\n",
    "            SrcFreq = Average(InHostSrcMap[dst][src].values())\n",
    "            SrcFrequency.append(SrcFreq)\n",
    "        return Average(SrcFrequency)\n",
    "    else:\n",
    "        return 0"
   ]
  },
  {
   "cell_type": "code",
   "execution_count": 22,
   "id": "027bee89",
   "metadata": {},
   "outputs": [],
   "source": [
    "## Algorithm 15\n",
    "def Calculate_IDAFusr_src(dst):\n",
    "    UsrSrcFrequency = []\n",
    "    if dst in list(InHostUsrSrcMap.keys()):\n",
    "        for usrsrc in list(InHostUsrSrcMap[dst].keys()):\n",
    "            UsrSrcFreq = Average(InHostUsrSrcMap[dst][usrsrc].values())\n",
    "            UsrSrcFrequency.append(UsrSrcFreq)\n",
    "        return Average(UsrSrcFrequency)\n",
    "    else:\n",
    "        return 0"
   ]
  },
  {
   "cell_type": "markdown",
   "id": "712a8692",
   "metadata": {},
   "source": [
    "--"
   ]
  },
  {
   "cell_type": "code",
   "execution_count": 23,
   "id": "8f4a7157",
   "metadata": {},
   "outputs": [],
   "source": [
    "## Algorithm 16\n",
    "def Calculate_ODAFusr(src):\n",
    "    UserFrequency = []\n",
    "    if src in list(OutHostUserMap.keys()):\n",
    "        for user in list(OutHostUserMap[src].keys()):\n",
    "            UsrFreq = Average(OutHostUserMap[src][user].values())\n",
    "            UserFrequency.append(UsrFreq)\n",
    "        return Average(UserFrequency)\n",
    "    else:\n",
    "        return 0"
   ]
  },
  {
   "cell_type": "code",
   "execution_count": 24,
   "id": "2e10c056",
   "metadata": {},
   "outputs": [],
   "source": [
    "## Algorithm 17\n",
    "def Calculate_ODAFdst(src):\n",
    "    DstFrequency = []\n",
    "    if src in list(OutHostDstMap.keys()):\n",
    "        for dst in list(OutHostDstMap[src].keys()):\n",
    "            dstFreq = Average(OutHostDstMap[src][dst].values())\n",
    "            DstFrequency.append(dstFreq)\n",
    "        return Average(DstFrequency)\n",
    "    else:\n",
    "        return 0"
   ]
  },
  {
   "cell_type": "code",
   "execution_count": 25,
   "id": "0e701cdf",
   "metadata": {},
   "outputs": [],
   "source": [
    "## Algorithm 18\n",
    "def Calculate_ODAFusr_dst(src):\n",
    "    UsrDstFrequency = []\n",
    "    if src in list(OutHostUsrDstMap.keys()):\n",
    "        for usrdst in list(OutHostUsrDstMap[src].keys()):\n",
    "            usrdstFreq = Average(OutHostUsrDstMap[src][usrdst].values())\n",
    "            UsrDstFrequency.append(usrdstFreq)\n",
    "        return Average(UsrDstFrequency)\n",
    "    else:\n",
    "        return 0"
   ]
  },
  {
   "cell_type": "markdown",
   "id": "2e3a097b",
   "metadata": {},
   "source": [
    "--"
   ]
  },
  {
   "cell_type": "code",
   "execution_count": 26,
   "id": "a78f64bf",
   "metadata": {},
   "outputs": [],
   "source": [
    "## Algorithm 19\n",
    "def Calculate_IDAFSTDusr(dst):\n",
    "    UserFrequency = []\n",
    "    if dst in list(InHostUserMap.keys()):\n",
    "        for user in list(InHostUserMap[dst].keys()):\n",
    "            UserFreq = Average(InHostUserMap[dst][user].values())\n",
    "            UserFrequency.append(UserFreq)\n",
    "        return Stddev(UserFrequency)\n",
    "    else:\n",
    "        return 0"
   ]
  },
  {
   "cell_type": "code",
   "execution_count": 27,
   "id": "98cbac55",
   "metadata": {},
   "outputs": [],
   "source": [
    "## Algorithm 20\n",
    "def Calculate_IDAFSTDsrc(dst):\n",
    "    SrcFrequency = []\n",
    "    if dst in list(InHostSrcMap.keys()):\n",
    "        for src in list(InHostSrcMap[dst].keys()):\n",
    "            SrcFreq = Average(InHostSrcMap[dst][src].values())\n",
    "            SrcFrequency.append(SrcFreq)\n",
    "        return Stddev(SrcFrequency)\n",
    "    else:\n",
    "        return 0"
   ]
  },
  {
   "cell_type": "code",
   "execution_count": 28,
   "id": "a58fc7d4",
   "metadata": {},
   "outputs": [],
   "source": [
    "## Algorithm 21\n",
    "def Calculate_IDAFSTDusr_src(dst):\n",
    "    UsrSrcFrequency = []\n",
    "    if dst in list(InHostUsrSrcMap.keys()):\n",
    "        for usersrc in list(InHostUserMap[dst].keys()):\n",
    "            UsrSrcFreq = Average(InHostUserMap[dst][usersrc].values())\n",
    "            UsrSrcFrequency.append(UsrSrcFreq)\n",
    "        return Stddev(UsrSrcFrequency)\n",
    "    else:\n",
    "        return 0"
   ]
  },
  {
   "cell_type": "markdown",
   "id": "8a9bbef1",
   "metadata": {},
   "source": [
    "--"
   ]
  },
  {
   "cell_type": "code",
   "execution_count": 29,
   "id": "49fe296c",
   "metadata": {},
   "outputs": [],
   "source": [
    "## Algorithm 22\n",
    "def Calculate_ODAFSTDusr(src):\n",
    "    UserFrequency = []\n",
    "    if src in list(OutHostUserMap.keys()):\n",
    "        for user in list(OutHostUserMap[src].keys()):\n",
    "            UserFreq = Average(OutHostUserMap[src][user].values())\n",
    "            UserFrequency.append(UserFreq)\n",
    "        return Stddev(UserFrequency)\n",
    "    else:\n",
    "        return 0"
   ]
  },
  {
   "cell_type": "code",
   "execution_count": 30,
   "id": "aaa71a47",
   "metadata": {},
   "outputs": [],
   "source": [
    "## Algorithm 23\n",
    "def Calculate_ODAFSTDdst(src):\n",
    "    DstFrequency = []\n",
    "    if src in list(OutHostDstMap.keys()):\n",
    "        for dst in list(OutHostDstMap[src].keys()):\n",
    "            DstFreq = Average(OutHostDstMap[src][dst].values())\n",
    "            DstFrequency.append(DstFreq)\n",
    "        return Stddev(DstFrequency)\n",
    "    else:\n",
    "        return 0"
   ]
  },
  {
   "cell_type": "code",
   "execution_count": 31,
   "id": "517569a1",
   "metadata": {},
   "outputs": [],
   "source": [
    "## Algorithm 24\n",
    "def Calculate_ODAFSTDusr_dst(src):\n",
    "    UsrDstFrequency = []\n",
    "    if src in list(OutHostUsrDstMap.keys()):\n",
    "        for userdst in list(OutHostUsrDstMap[src].keys()):\n",
    "            UsrDstFreq = Average(OutHostUsrDstMap[src][userdst].values())\n",
    "            UsrDstFrequency.append(UsrDstFreq)\n",
    "        return Stddev(UsrDstFrequency)\n",
    "    else:\n",
    "        return 0"
   ]
  },
  {
   "cell_type": "markdown",
   "id": "80275e37",
   "metadata": {},
   "source": [
    "--"
   ]
  },
  {
   "cell_type": "code",
   "execution_count": 32,
   "id": "338cd8a8",
   "metadata": {},
   "outputs": [],
   "source": [
    "def features(authlog):\n",
    "    count = 1\n",
    "    init = time.time()\n",
    "    print(init)\n",
    "    print(\"=======================\")\n",
    "    for i, event in authlog.iterrows():\n",
    "        if i/(1000000*count) == 1:\n",
    "            count +=1\n",
    "            print(\"index = \", i)\n",
    "            now = time.time()\n",
    "            lap = now-init\n",
    "            print(lap)\n",
    "            init = time.time()\n",
    "            \n",
    "        #authlog.at[i,'ID_usr'] = Calculate_IDusr(event['dst'])\n",
    "        #authlog.at[i,'ID_src'] = Calculate_IDsrc(event['dst'])\n",
    "        #authlog.at[i,'ID_usr_src'] = Calculate_IDusr_src(event['dst'])\n",
    "        \n",
    "        authlog.at[i,'OD_usr'] = Calculate_ODusr(event['src'])\n",
    "        authlog.at[i,'OD_dst'] = Calculate_ODdst(event['src'])\n",
    "        authlog.at[i,'OD_usr_dst'] = Calculate_ODusr_dst(event['src'])\n",
    "        \n",
    "        #authlog.at[i,'IDAF_usr'] = Calculate_IDAFusr(event['dst'])\n",
    "        #authlog.at[i,'IDAF_src'] = Calculate_IDAFsrc(event['dst'])\n",
    "        #authlog.at[i,'IDAF_usr_src'] = Calculate_IDAFusr_src(event['dst'])\n",
    "        \n",
    "        #authlog.at[i,'ODAF_usr'] = Calculate_ODAFusr(event['src'])\n",
    "        #authlog.at[i,'ODAF_dst'] = Calculate_ODAFdst(event['src'])\n",
    "        #authlog.at[i,'ODAF_usr_dst'] = Calculate_ODAFusr_dst(event['src'])\n",
    "        \n",
    "        #authlog.at[i,'IDAFSTD_usr'] = Calculate_IDAFSTDusr(event['dst'])\n",
    "        #authlog.at[i,'IDAFSTD_src'] = Calculate_IDAFSTDsrc(event['dst'])\n",
    "        #authlog.at[i,'IDAFSTD_usr_src'] = Calculate_IDAFSTDusr_src(event['dst'])\n",
    "        \n",
    "        #authlog.at[i,'ODAFSTD_usr'] = Calculate_ODAFSTDusr(event['src'])\n",
    "        #authlog.at[i,'ODAFSTD_dst'] = Calculate_ODAFSTDdst(event['src'])\n",
    "        #authlog.at[i,'ODAFSTD_usr_dst'] = Calculate_ODAFSTDusr_dst(event['src'])\n",
    "        \n",
    "    return authlog"
   ]
  },
  {
   "cell_type": "code",
   "execution_count": 33,
   "id": "147868db",
   "metadata": {},
   "outputs": [],
   "source": [
    "#authlog = authlog.head(100)"
   ]
  },
  {
   "cell_type": "code",
   "execution_count": null,
   "id": "a0cd1651",
   "metadata": {},
   "outputs": [
    {
     "name": "stdout",
     "output_type": "stream",
     "text": [
      "1656191998.1264777\n",
      "=======================\n"
     ]
    }
   ],
   "source": [
    "new_feat_authlog = features(authlog)\n",
    "pickle.dump(new_feat_authlog, open(\"new_feat_authlog_cp2.pkl\", \"wb\")) "
   ]
  },
  {
   "cell_type": "code",
   "execution_count": null,
   "id": "7647e877",
   "metadata": {},
   "outputs": [],
   "source": [
    "#new_feat_authlog"
   ]
  },
  {
   "cell_type": "code",
   "execution_count": null,
   "id": "0996fd77",
   "metadata": {},
   "outputs": [],
   "source": [
    "new_feat_authlog"
   ]
  },
  {
   "cell_type": "code",
   "execution_count": null,
   "id": "b9e3a1da",
   "metadata": {},
   "outputs": [],
   "source": []
  }
 ],
 "metadata": {
  "kernelspec": {
   "display_name": "Python 3 (ipykernel)",
   "language": "python",
   "name": "python3"
  },
  "language_info": {
   "codemirror_mode": {
    "name": "ipython",
    "version": 3
   },
   "file_extension": ".py",
   "mimetype": "text/x-python",
   "name": "python",
   "nbconvert_exporter": "python",
   "pygments_lexer": "ipython3",
   "version": "3.9.12"
  }
 },
 "nbformat": 4,
 "nbformat_minor": 5
}

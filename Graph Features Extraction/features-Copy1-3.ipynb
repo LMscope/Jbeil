{
 "cells": [
  {
   "cell_type": "code",
   "execution_count": 1,
   "id": "7a293f06",
   "metadata": {},
   "outputs": [],
   "source": [
    "import pandas as pd\n",
    "import igraph as ig\n",
    "import random\n",
    "import itertools\n",
    "import operator\n",
    "import pickle\n",
    "import time\n",
    "import threading\n",
    "import concurrent.futures"
   ]
  },
  {
   "cell_type": "code",
   "execution_count": null,
   "id": "9f8f7496",
   "metadata": {},
   "outputs": [],
   "source": []
  },
  {
   "cell_type": "code",
   "execution_count": 2,
   "id": "4751c882",
   "metadata": {},
   "outputs": [],
   "source": [
    "InHostUserMap = {}\n",
    "with open('InHostUserMap.pkl', 'rb') as pickle_file:\n",
    "    InHostUserMap = pickle.load(pickle_file)"
   ]
  },
  {
   "cell_type": "code",
   "execution_count": 3,
   "id": "4db7f2e5",
   "metadata": {},
   "outputs": [],
   "source": [
    "InHostSrcMap = {}\n",
    "with open('InHostSrcMap.pkl', 'rb') as pickle_file:\n",
    "    InHostSrcMap = pickle.load(pickle_file)"
   ]
  },
  {
   "cell_type": "code",
   "execution_count": 4,
   "id": "1bf3dc9d",
   "metadata": {},
   "outputs": [],
   "source": [
    "InHostUsrSrcMap = {}\n",
    "with open('InHostUsrSrcMap.pkl', 'rb') as pickle_file:\n",
    "    InHostUsrSrcMap = pickle.load(pickle_file)"
   ]
  },
  {
   "cell_type": "code",
   "execution_count": 5,
   "id": "c98eec5b",
   "metadata": {},
   "outputs": [],
   "source": [
    "OutHostDstMap = {}\n",
    "with open('OutHostDstMap.pkl', 'rb') as pickle_file:\n",
    "    OutHostDstMap = pickle.load(pickle_file)"
   ]
  },
  {
   "cell_type": "code",
   "execution_count": 6,
   "id": "abacb417",
   "metadata": {},
   "outputs": [],
   "source": [
    "OutHostUserMap = {}\n",
    "with open('OutHostUserMap.pkl', 'rb') as pickle_file:\n",
    "    OutHostUserMap = pickle.load(pickle_file)"
   ]
  },
  {
   "cell_type": "code",
   "execution_count": 7,
   "id": "6a497b00",
   "metadata": {},
   "outputs": [],
   "source": [
    "OutHostUsrDstMap = {}\n",
    "with open('OutHostUsrDstMap.pkl', 'rb') as pickle_file:\n",
    "    OutHostUsrDstMap = pickle.load(pickle_file)"
   ]
  },
  {
   "cell_type": "code",
   "execution_count": null,
   "id": "88bc359c",
   "metadata": {},
   "outputs": [],
   "source": []
  },
  {
   "cell_type": "code",
   "execution_count": 8,
   "id": "0b628e32",
   "metadata": {},
   "outputs": [],
   "source": [
    "## user_id, item_id, timestamp, state_label, comma_seperated_list_of_features\n",
    "auth = pd.read_csv(\"../auth_ntlm.txt\", header=None, names=['time', 'src_t', 'user', 'src', 'dst', 'auth_t', 'log_t', 'auth_o', 's_f'])"
   ]
  },
  {
   "cell_type": "code",
   "execution_count": 9,
   "id": "e0ef6fca",
   "metadata": {},
   "outputs": [],
   "source": [
    "authlog = auth[['src', 'dst', 'time', 'user']]"
   ]
  },
  {
   "cell_type": "code",
   "execution_count": 10,
   "id": "15e52852",
   "metadata": {},
   "outputs": [
    {
     "name": "stderr",
     "output_type": "stream",
     "text": [
      "/tmp/ipykernel_30143/1328306643.py:3: SettingWithCopyWarning: \n",
      "A value is trying to be set on a copy of a slice from a DataFrame.\n",
      "Try using .loc[row_indexer,col_indexer] = value instead\n",
      "\n",
      "See the caveats in the documentation: https://pandas.pydata.org/pandas-docs/stable/user_guide/indexing.html#returning-a-view-versus-a-copy\n",
      "  authlog['ID_usr_src'] = 0.0\n"
     ]
    }
   ],
   "source": [
    "#authlog['ID_usr'] = 0.0\n",
    "#authlog['ID_src'] = 0.0\n",
    "authlog['ID_usr_src'] = 0.0\n",
    "\n",
    "#authlog['OD_usr'] = 0.0\n",
    "#authlog['OD_dst'] = 0.0\n",
    "#authlog['OD_usr_dst'] = 0.0\n",
    "\n",
    "#authlog['IDAF_usr'] = 0.0\n",
    "#authlog['IDAF_src'] = 0.0\n",
    "#authlog['IDAF_usr_src'] = 0.0\n",
    "\n",
    "#authlog['ODAF_usr'] = 0.0\n",
    "#authlog['ODAF_dst'] = 0.0\n",
    "#authlog['ODAF_usr_dst'] = 0.0\n",
    "\n",
    "#authlog['IDAFSTD_usr'] = 0.0\n",
    "#authlog['IDAFSTD_src'] = 0.0\n",
    "#authlog['IDAFSTD_usr_src'] = 0.0\n",
    "\n",
    "#authlog['ODAFSTD_usr'] = 0.0\n",
    "#authlog['ODAFSTD_dst'] = 0.0\n",
    "#authlog['ODAFSTD_usr_dst'] = 0.0"
   ]
  },
  {
   "cell_type": "code",
   "execution_count": 11,
   "id": "34d1ae80",
   "metadata": {},
   "outputs": [
    {
     "data": {
      "text/html": [
       "<div>\n",
       "<style scoped>\n",
       "    .dataframe tbody tr th:only-of-type {\n",
       "        vertical-align: middle;\n",
       "    }\n",
       "\n",
       "    .dataframe tbody tr th {\n",
       "        vertical-align: top;\n",
       "    }\n",
       "\n",
       "    .dataframe thead th {\n",
       "        text-align: right;\n",
       "    }\n",
       "</style>\n",
       "<table border=\"1\" class=\"dataframe\">\n",
       "  <thead>\n",
       "    <tr style=\"text-align: right;\">\n",
       "      <th></th>\n",
       "      <th>src</th>\n",
       "      <th>dst</th>\n",
       "      <th>time</th>\n",
       "      <th>user</th>\n",
       "      <th>ID_usr_src</th>\n",
       "    </tr>\n",
       "  </thead>\n",
       "  <tbody>\n",
       "    <tr>\n",
       "      <th>0</th>\n",
       "      <td>C1250</td>\n",
       "      <td>C586</td>\n",
       "      <td>1</td>\n",
       "      <td>ANONYMOUS LOGON@C586</td>\n",
       "      <td>0.0</td>\n",
       "    </tr>\n",
       "    <tr>\n",
       "      <th>1</th>\n",
       "      <td>C2944</td>\n",
       "      <td>C2944</td>\n",
       "      <td>1</td>\n",
       "      <td>U898@DOM1</td>\n",
       "      <td>0.0</td>\n",
       "    </tr>\n",
       "    <tr>\n",
       "      <th>2</th>\n",
       "      <td>C4615</td>\n",
       "      <td>C457</td>\n",
       "      <td>2</td>\n",
       "      <td>ANONYMOUS LOGON@C457</td>\n",
       "      <td>0.0</td>\n",
       "    </tr>\n",
       "    <tr>\n",
       "      <th>3</th>\n",
       "      <td>C2734</td>\n",
       "      <td>C586</td>\n",
       "      <td>2</td>\n",
       "      <td>ANONYMOUS LOGON@C586</td>\n",
       "      <td>0.0</td>\n",
       "    </tr>\n",
       "    <tr>\n",
       "      <th>4</th>\n",
       "      <td>C3896</td>\n",
       "      <td>C586</td>\n",
       "      <td>2</td>\n",
       "      <td>ANONYMOUS LOGON@C586</td>\n",
       "      <td>0.0</td>\n",
       "    </tr>\n",
       "    <tr>\n",
       "      <th>...</th>\n",
       "      <td>...</td>\n",
       "      <td>...</td>\n",
       "      <td>...</td>\n",
       "      <td>...</td>\n",
       "      <td>...</td>\n",
       "    </tr>\n",
       "    <tr>\n",
       "      <th>49341295</th>\n",
       "      <td>C659</td>\n",
       "      <td>C1065</td>\n",
       "      <td>5011199</td>\n",
       "      <td>C659$@DOM1</td>\n",
       "      <td>0.0</td>\n",
       "    </tr>\n",
       "    <tr>\n",
       "      <th>49341296</th>\n",
       "      <td>C9458</td>\n",
       "      <td>C1015</td>\n",
       "      <td>5011199</td>\n",
       "      <td>C9458$@DOM1</td>\n",
       "      <td>0.0</td>\n",
       "    </tr>\n",
       "    <tr>\n",
       "      <th>49341297</th>\n",
       "      <td>C419</td>\n",
       "      <td>C419</td>\n",
       "      <td>5011199</td>\n",
       "      <td>U129@DOM1</td>\n",
       "      <td>0.0</td>\n",
       "    </tr>\n",
       "    <tr>\n",
       "      <th>49341298</th>\n",
       "      <td>C9458</td>\n",
       "      <td>C1015</td>\n",
       "      <td>5011199</td>\n",
       "      <td>U3887@DOM1</td>\n",
       "      <td>0.0</td>\n",
       "    </tr>\n",
       "    <tr>\n",
       "      <th>49341299</th>\n",
       "      <td>C16428</td>\n",
       "      <td>C1015</td>\n",
       "      <td>5011199</td>\n",
       "      <td>U7539@DOM1</td>\n",
       "      <td>0.0</td>\n",
       "    </tr>\n",
       "  </tbody>\n",
       "</table>\n",
       "<p>49341300 rows × 5 columns</p>\n",
       "</div>"
      ],
      "text/plain": [
       "             src    dst     time                  user  ID_usr_src\n",
       "0          C1250   C586        1  ANONYMOUS LOGON@C586         0.0\n",
       "1          C2944  C2944        1             U898@DOM1         0.0\n",
       "2          C4615   C457        2  ANONYMOUS LOGON@C457         0.0\n",
       "3          C2734   C586        2  ANONYMOUS LOGON@C586         0.0\n",
       "4          C3896   C586        2  ANONYMOUS LOGON@C586         0.0\n",
       "...          ...    ...      ...                   ...         ...\n",
       "49341295    C659  C1065  5011199            C659$@DOM1         0.0\n",
       "49341296   C9458  C1015  5011199           C9458$@DOM1         0.0\n",
       "49341297    C419   C419  5011199             U129@DOM1         0.0\n",
       "49341298   C9458  C1015  5011199            U3887@DOM1         0.0\n",
       "49341299  C16428  C1015  5011199            U7539@DOM1         0.0\n",
       "\n",
       "[49341300 rows x 5 columns]"
      ]
     },
     "execution_count": 11,
     "metadata": {},
     "output_type": "execute_result"
    }
   ],
   "source": [
    "authlog"
   ]
  },
  {
   "cell_type": "markdown",
   "id": "22a569cd",
   "metadata": {},
   "source": [
    "--"
   ]
  },
  {
   "cell_type": "code",
   "execution_count": 12,
   "id": "3395cdd7",
   "metadata": {},
   "outputs": [],
   "source": [
    "def Average(lst):\n",
    "    return sum(lst) / len(lst)"
   ]
  },
  {
   "cell_type": "code",
   "execution_count": 13,
   "id": "40fecec8",
   "metadata": {},
   "outputs": [],
   "source": [
    "def Stddev(lst):\n",
    "    mean = Average(lst)\n",
    "    variance = sum([((x - mean) ** 2) for x in lst]) / len(lst)\n",
    "    stddev = variance ** 0.5\n",
    "    return stddev"
   ]
  },
  {
   "cell_type": "markdown",
   "id": "f6ddfa3b",
   "metadata": {},
   "source": [
    "--"
   ]
  },
  {
   "cell_type": "code",
   "execution_count": 14,
   "id": "80a822b1",
   "metadata": {},
   "outputs": [],
   "source": [
    "## Algorithm 7\n",
    "def Calculate_IDusr(dst):\n",
    "    InHostUserMap_list = list(InHostUserMap.keys())\n",
    "    if dst in InHostUserMap_list:\n",
    "        return len(list(InHostUserMap[dst].values()))\n",
    "    else:\n",
    "        return 0"
   ]
  },
  {
   "cell_type": "code",
   "execution_count": 15,
   "id": "1aed1046",
   "metadata": {},
   "outputs": [],
   "source": [
    "## Algorithm 8\n",
    "def Calculate_IDsrc(dst):\n",
    "    InHostSrcMap_list = list(InHostSrcMap.keys())\n",
    "    if dst in InHostSrcMap_list:\n",
    "        return len(list(InHostSrcMap[dst].values()))\n",
    "    else:\n",
    "        return 0"
   ]
  },
  {
   "cell_type": "code",
   "execution_count": 16,
   "id": "b3708707",
   "metadata": {},
   "outputs": [],
   "source": [
    "## Algorithm 9\n",
    "def Calculate_IDusr_src(dst):\n",
    "    InHostUsrSrcMap_list = list(InHostUsrSrcMap.keys())\n",
    "    if dst in InHostUsrSrcMap_list:\n",
    "        return len(list(InHostUsrSrcMap[dst].values()))\n",
    "    else:\n",
    "        return 0"
   ]
  },
  {
   "cell_type": "markdown",
   "id": "7ca4eb8b",
   "metadata": {},
   "source": [
    "--"
   ]
  },
  {
   "cell_type": "code",
   "execution_count": 17,
   "id": "5384b6b8",
   "metadata": {},
   "outputs": [],
   "source": [
    "## Algorithm 10\n",
    "def Calculate_ODusr(src):\n",
    "    if src in list(OutHostUserMap.keys()):\n",
    "        return len(list(OutHostUserMap[src].values()))\n",
    "    else:\n",
    "        return 0"
   ]
  },
  {
   "cell_type": "code",
   "execution_count": 18,
   "id": "96b8324a",
   "metadata": {},
   "outputs": [],
   "source": [
    "## Algorithm 11\n",
    "def Calculate_ODdst(src):\n",
    "    if src in list(OutHostDstMap.keys()):\n",
    "        return len(list(OutHostDstMap[src].values()))\n",
    "    else:\n",
    "        return 0"
   ]
  },
  {
   "cell_type": "code",
   "execution_count": 19,
   "id": "61df6ccf",
   "metadata": {},
   "outputs": [],
   "source": [
    "## Algorithm 12\n",
    "def Calculate_ODusr_dst(src):\n",
    "    if src in list(OutHostUsrDstMap.keys()):\n",
    "        return len(list(OutHostUsrDstMap[src].values()))\n",
    "    else:\n",
    "        return 0"
   ]
  },
  {
   "cell_type": "markdown",
   "id": "5aa2734b",
   "metadata": {},
   "source": [
    "--"
   ]
  },
  {
   "cell_type": "code",
   "execution_count": 20,
   "id": "2de32d17",
   "metadata": {},
   "outputs": [],
   "source": [
    "## Algorithm 13\n",
    "def Calculate_IDAFusr(dst):\n",
    "    UserFrequency = []\n",
    "    if dst in list(InHostUserMap.keys()):\n",
    "        for user in list(InHostUserMap[dst].keys()):\n",
    "            UserFreq = Average(InHostUserMap[dst][user].values())\n",
    "            UserFrequency.append(UserFreq)\n",
    "        return Average(UserFrequency)\n",
    "    else:\n",
    "        return 0"
   ]
  },
  {
   "cell_type": "code",
   "execution_count": 21,
   "id": "9aabf691",
   "metadata": {},
   "outputs": [],
   "source": [
    "## Algorithm 14\n",
    "def Calculate_IDAFsrc(dst):\n",
    "    SrcFrequency = []\n",
    "    if dst in list(InHostSrcMap.keys()):\n",
    "        for src in list(InHostSrcMap[dst].keys()):\n",
    "            SrcFreq = Average(InHostSrcMap[dst][src].values())\n",
    "            SrcFrequency.append(SrcFreq)\n",
    "        return Average(SrcFrequency)\n",
    "    else:\n",
    "        return 0"
   ]
  },
  {
   "cell_type": "code",
   "execution_count": 22,
   "id": "92e188db",
   "metadata": {},
   "outputs": [],
   "source": [
    "## Algorithm 15\n",
    "def Calculate_IDAFusr_src(dst):\n",
    "    UsrSrcFrequency = []\n",
    "    if dst in list(InHostUsrSrcMap.keys()):\n",
    "        for usrsrc in list(InHostUsrSrcMap[dst].keys()):\n",
    "            UsrSrcFreq = Average(InHostUsrSrcMap[dst][usrsrc].values())\n",
    "            UsrSrcFrequency.append(UsrSrcFreq)\n",
    "        return Average(UsrSrcFrequency)\n",
    "    else:\n",
    "        return 0"
   ]
  },
  {
   "cell_type": "markdown",
   "id": "e4a7f615",
   "metadata": {},
   "source": [
    "--"
   ]
  },
  {
   "cell_type": "code",
   "execution_count": 23,
   "id": "33c4dad2",
   "metadata": {},
   "outputs": [],
   "source": [
    "## Algorithm 16\n",
    "def Calculate_ODAFusr(src):\n",
    "    UserFrequency = []\n",
    "    if src in list(OutHostUserMap.keys()):\n",
    "        for user in list(OutHostUserMap[src].keys()):\n",
    "            UsrFreq = Average(OutHostUserMap[src][user].values())\n",
    "            UserFrequency.append(UsrFreq)\n",
    "        return Average(UserFrequency)\n",
    "    else:\n",
    "        return 0"
   ]
  },
  {
   "cell_type": "code",
   "execution_count": 24,
   "id": "3863d9ec",
   "metadata": {},
   "outputs": [],
   "source": [
    "## Algorithm 17\n",
    "def Calculate_ODAFdst(src):\n",
    "    DstFrequency = []\n",
    "    if src in list(OutHostDstMap.keys()):\n",
    "        for dst in list(OutHostDstMap[src].keys()):\n",
    "            dstFreq = Average(OutHostDstMap[src][dst].values())\n",
    "            DstFrequency.append(dstFreq)\n",
    "        return Average(DstFrequency)\n",
    "    else:\n",
    "        return 0"
   ]
  },
  {
   "cell_type": "code",
   "execution_count": 25,
   "id": "395936df",
   "metadata": {},
   "outputs": [],
   "source": [
    "## Algorithm 18\n",
    "def Calculate_ODAFusr_dst(src):\n",
    "    UsrDstFrequency = []\n",
    "    if src in list(OutHostUsrDstMap.keys()):\n",
    "        for usrdst in list(OutHostUsrDstMap[src].keys()):\n",
    "            usrdstFreq = Average(OutHostUsrDstMap[src][usrdst].values())\n",
    "            UsrDstFrequency.append(usrdstFreq)\n",
    "        return Average(UsrDstFrequency)\n",
    "    else:\n",
    "        return 0"
   ]
  },
  {
   "cell_type": "markdown",
   "id": "a170660a",
   "metadata": {},
   "source": [
    "--"
   ]
  },
  {
   "cell_type": "code",
   "execution_count": 26,
   "id": "be1c729e",
   "metadata": {},
   "outputs": [],
   "source": [
    "## Algorithm 19\n",
    "def Calculate_IDAFSTDusr(dst):\n",
    "    UserFrequency = []\n",
    "    if dst in list(InHostUserMap.keys()):\n",
    "        for user in list(InHostUserMap[dst].keys()):\n",
    "            UserFreq = Average(InHostUserMap[dst][user].values())\n",
    "            UserFrequency.append(UserFreq)\n",
    "        return Stddev(UserFrequency)\n",
    "    else:\n",
    "        return 0"
   ]
  },
  {
   "cell_type": "code",
   "execution_count": 27,
   "id": "b96ae467",
   "metadata": {},
   "outputs": [],
   "source": [
    "## Algorithm 20\n",
    "def Calculate_IDAFSTDsrc(dst):\n",
    "    SrcFrequency = []\n",
    "    if dst in list(InHostSrcMap.keys()):\n",
    "        for src in list(InHostSrcMap[dst].keys()):\n",
    "            SrcFreq = Average(InHostSrcMap[dst][src].values())\n",
    "            SrcFrequency.append(SrcFreq)\n",
    "        return Stddev(SrcFrequency)\n",
    "    else:\n",
    "        return 0"
   ]
  },
  {
   "cell_type": "code",
   "execution_count": 28,
   "id": "822ededd",
   "metadata": {},
   "outputs": [],
   "source": [
    "## Algorithm 21\n",
    "def Calculate_IDAFSTDusr_src(dst):\n",
    "    UsrSrcFrequency = []\n",
    "    if dst in list(InHostUsrSrcMap.keys()):\n",
    "        for usersrc in list(InHostUserMap[dst].keys()):\n",
    "            UsrSrcFreq = Average(InHostUserMap[dst][usersrc].values())\n",
    "            UsrSrcFrequency.append(UsrSrcFreq)\n",
    "        return Stddev(UsrSrcFrequency)\n",
    "    else:\n",
    "        return 0"
   ]
  },
  {
   "cell_type": "markdown",
   "id": "d98cb739",
   "metadata": {},
   "source": [
    "--"
   ]
  },
  {
   "cell_type": "code",
   "execution_count": 29,
   "id": "1bf92536",
   "metadata": {},
   "outputs": [],
   "source": [
    "## Algorithm 22\n",
    "def Calculate_ODAFSTDusr(src):\n",
    "    UserFrequency = []\n",
    "    if src in list(OutHostUserMap.keys()):\n",
    "        for user in list(OutHostUserMap[src].keys()):\n",
    "            UserFreq = Average(OutHostUserMap[src][user].values())\n",
    "            UserFrequency.append(UserFreq)\n",
    "        return Stddev(UserFrequency)\n",
    "    else:\n",
    "        return 0"
   ]
  },
  {
   "cell_type": "code",
   "execution_count": 30,
   "id": "5f549f03",
   "metadata": {},
   "outputs": [],
   "source": [
    "## Algorithm 23\n",
    "def Calculate_ODAFSTDdst(src):\n",
    "    DstFrequency = []\n",
    "    if src in list(OutHostDstMap.keys()):\n",
    "        for dst in list(OutHostDstMap[src].keys()):\n",
    "            DstFreq = Average(OutHostDstMap[src][dst].values())\n",
    "            DstFrequency.append(DstFreq)\n",
    "        return Stddev(DstFrequency)\n",
    "    else:\n",
    "        return 0"
   ]
  },
  {
   "cell_type": "code",
   "execution_count": 31,
   "id": "44ea0f1a",
   "metadata": {},
   "outputs": [],
   "source": [
    "## Algorithm 24\n",
    "def Calculate_ODAFSTDusr_dst(src):\n",
    "    UsrDstFrequency = []\n",
    "    if src in list(OutHostUsrDstMap.keys()):\n",
    "        for userdst in list(OutHostUsrDstMap[src].keys()):\n",
    "            UsrDstFreq = Average(OutHostUsrDstMap[src][userdst].values())\n",
    "            UsrDstFrequency.append(UsrDstFreq)\n",
    "        return Stddev(UsrDstFrequency)\n",
    "    else:\n",
    "        return 0"
   ]
  },
  {
   "cell_type": "markdown",
   "id": "012029db",
   "metadata": {},
   "source": [
    "--"
   ]
  },
  {
   "cell_type": "code",
   "execution_count": 32,
   "id": "2df585e3",
   "metadata": {},
   "outputs": [],
   "source": [
    "def features(authlog):\n",
    "    count = 1\n",
    "    init = time.time()\n",
    "    print(init)\n",
    "    print(\"=======================\")\n",
    "    for i, event in authlog.iterrows():\n",
    "        if i/(1000000*count) == 1:\n",
    "            count +=1\n",
    "            print(\"index = \", i)\n",
    "            now = time.time()\n",
    "            lap = now-init\n",
    "            print(lap)\n",
    "            init = time.time()\n",
    "            \n",
    "        #authlog.at[i,'ID_usr'] = Calculate_IDusr(event['dst'])\n",
    "        #authlog.at[i,'ID_src'] = Calculate_IDsrc(event['dst'])\n",
    "        authlog.at[i,'ID_usr_src'] = Calculate_IDusr_src(event['dst'])\n",
    "        \n",
    "        #with concurrent.futures.ThreadPoolExecutor() as executor:\n",
    "        #    future = executor.submit(Calculate_IDusr, event['dst'])\n",
    "        #    authlog.at[i,'ID_usr'] = future.result()\n",
    "            \n",
    "        #with concurrent.futures.ThreadPoolExecutor() as executor:\n",
    "        #    future = executor.submit(Calculate_IDsrc, event['dst'])\n",
    "        #    authlog.at[i,'ID_usr'] = future.result()\n",
    "            \n",
    "        #with concurrent.futures.ThreadPoolExecutor() as executor:\n",
    "        #    future = executor.submit(Calculate_IDusr_src, event['dst'])\n",
    "        #    authlog.at[i,'ID_usr'] = future.result()\n",
    "            \n",
    "        #authlog.at[i,'ID_usr'] = threading.Thread(target=Calculate_IDusr, args=(event['dst'],))\n",
    "        #authlog.at[i,'ID_src'] = threading.Thread(target=Calculate_IDsrc, args=(event['dst'],))\n",
    "        #authlog.at[i,'ID_usr_src'] = threading.Thread(target=Calculate_IDusr_src, args=(event['dst'],))\n",
    "        \n",
    "        #authlog.at[i,'OD_usr'] = Calculate_ODusr(event['src'])\n",
    "        #authlog.at[i,'OD_dst'] = Calculate_ODdst(event['src'])\n",
    "        #authlog.at[i,'OD_usr_dst'] = Calculate_ODusr_dst(event['src'])\n",
    "        \n",
    "        #authlog.at[i,'IDAF_usr'] = Calculate_IDAFusr(event['dst'])\n",
    "        #authlog.at[i,'IDAF_src'] = Calculate_IDAFsrc(event['dst'])\n",
    "        #authlog.at[i,'IDAF_usr_src'] = Calculate_IDAFusr_src(event['dst'])\n",
    "        \n",
    "        #authlog.at[i,'ODAF_usr'] = Calculate_ODAFusr(event['src'])\n",
    "        #authlog.at[i,'ODAF_dst'] = Calculate_ODAFdst(event['src'])\n",
    "        #authlog.at[i,'ODAF_usr_dst'] = Calculate_ODAFusr_dst(event['src'])\n",
    "        \n",
    "        #authlog.at[i,'IDAFSTD_usr'] = Calculate_IDAFSTDusr(event['dst'])\n",
    "        #authlog.at[i,'IDAFSTD_src'] = Calculate_IDAFSTDsrc(event['dst'])\n",
    "        #authlog.at[i,'IDAFSTD_usr_src'] = Calculate_IDAFSTDusr_src(event['dst'])\n",
    "        \n",
    "        #authlog.at[i,'ODAFSTD_usr'] = Calculate_ODAFSTDusr(event['src'])\n",
    "        #authlog.at[i,'ODAFSTD_dst'] = Calculate_ODAFSTDdst(event['src'])\n",
    "        #authlog.at[i,'ODAFSTD_usr_dst'] = Calculate_ODAFSTDusr_dst(event['src'])\n",
    "        \n",
    "    return authlog"
   ]
  },
  {
   "cell_type": "code",
   "execution_count": 33,
   "id": "328992cc",
   "metadata": {},
   "outputs": [],
   "source": [
    "#authlog = authlog.head(100)"
   ]
  },
  {
   "cell_type": "code",
   "execution_count": 34,
   "id": "f2e0ed13",
   "metadata": {},
   "outputs": [
    {
     "name": "stdout",
     "output_type": "stream",
     "text": [
      "1656260518.320042\n",
      "=======================\n",
      "index =  1000000\n",
      "533.4680564403534\n",
      "index =  2000000\n",
      "535.2560949325562\n",
      "index =  3000000\n",
      "550.6863598823547\n",
      "index =  4000000\n",
      "552.2249915599823\n",
      "index =  5000000\n",
      "543.030604839325\n",
      "index =  6000000\n",
      "544.3502793312073\n",
      "index =  7000000\n",
      "537.3868227005005\n",
      "index =  8000000\n",
      "534.9191236495972\n",
      "index =  9000000\n",
      "537.3370168209076\n",
      "index =  10000000\n",
      "534.4180519580841\n",
      "index =  11000000\n",
      "528.456531047821\n",
      "index =  12000000\n",
      "524.4673490524292\n",
      "index =  13000000\n",
      "537.9264957904816\n",
      "index =  14000000\n",
      "542.1804358959198\n",
      "index =  15000000\n",
      "537.3239140510559\n",
      "index =  16000000\n",
      "538.8715424537659\n",
      "index =  17000000\n",
      "536.9224429130554\n",
      "index =  18000000\n",
      "537.5748538970947\n",
      "index =  19000000\n",
      "535.7482414245605\n",
      "index =  20000000\n",
      "530.8294034004211\n",
      "index =  21000000\n",
      "541.0023348331451\n",
      "index =  22000000\n",
      "538.2268924713135\n",
      "index =  23000000\n",
      "537.5274722576141\n",
      "index =  24000000\n",
      "533.8832504749298\n",
      "index =  25000000\n",
      "527.7074432373047\n",
      "index =  26000000\n",
      "522.3967704772949\n",
      "index =  27000000\n",
      "528.8206307888031\n",
      "index =  28000000\n",
      "524.2747848033905\n",
      "index =  29000000\n",
      "533.6557693481445\n",
      "index =  30000000\n",
      "536.176586151123\n",
      "index =  31000000\n",
      "503.7020003795624\n",
      "index =  32000000\n",
      "508.085253238678\n",
      "index =  33000000\n",
      "522.7030448913574\n",
      "index =  34000000\n",
      "522.3304595947266\n",
      "index =  35000000\n",
      "527.1538133621216\n",
      "index =  36000000\n",
      "525.8302042484283\n",
      "index =  37000000\n",
      "527.2660720348358\n",
      "index =  38000000\n",
      "525.117945432663\n",
      "index =  39000000\n",
      "521.7177560329437\n",
      "index =  40000000\n",
      "518.9839024543762\n",
      "index =  41000000\n",
      "518.0242884159088\n",
      "index =  42000000\n",
      "529.8521027565002\n",
      "index =  43000000\n",
      "519.3367009162903\n",
      "index =  44000000\n",
      "532.6883726119995\n",
      "index =  45000000\n",
      "536.0598471164703\n",
      "index =  46000000\n",
      "534.7072186470032\n",
      "index =  47000000\n",
      "523.4910180568695\n",
      "index =  48000000\n",
      "522.9368631839752\n",
      "index =  49000000\n",
      "536.3745002746582\n"
     ]
    }
   ],
   "source": [
    "new_feat_authlog = features(authlog)\n",
    "pickle.dump(new_feat_authlog, open(\"new_feat_authlog_cp1-3.pkl\", \"wb\")) "
   ]
  },
  {
   "cell_type": "code",
   "execution_count": null,
   "id": "380160c5",
   "metadata": {},
   "outputs": [],
   "source": []
  },
  {
   "cell_type": "code",
   "execution_count": null,
   "id": "d251a8cf",
   "metadata": {},
   "outputs": [],
   "source": []
  },
  {
   "cell_type": "code",
   "execution_count": null,
   "id": "98855b1c",
   "metadata": {},
   "outputs": [],
   "source": []
  },
  {
   "cell_type": "code",
   "execution_count": null,
   "id": "45b5f6d5",
   "metadata": {},
   "outputs": [],
   "source": []
  }
 ],
 "metadata": {
  "kernelspec": {
   "display_name": "Python 3 (ipykernel)",
   "language": "python",
   "name": "python3"
  },
  "language_info": {
   "codemirror_mode": {
    "name": "ipython",
    "version": 3
   },
   "file_extension": ".py",
   "mimetype": "text/x-python",
   "name": "python",
   "nbconvert_exporter": "python",
   "pygments_lexer": "ipython3",
   "version": "3.8.13"
  }
 },
 "nbformat": 4,
 "nbformat_minor": 5
}
